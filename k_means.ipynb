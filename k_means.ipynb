{
 "cells": [
  {
   "cell_type": "code",
   "execution_count": 2,
   "metadata": {},
   "outputs": [],
   "source": [
    "import json\n",
    "import numpy as np\n",
    "import pandas as pd\n",
    "import webp\n",
    "from PIL import Image\n",
    "import os\n",
    "from matplotlib import pyplot as plt\n",
    "from sklearn.cluster import KMeans"
   ]
  },
  {
   "cell_type": "code",
   "execution_count": 3,
   "metadata": {},
   "outputs": [],
   "source": [
    "annots = json.loads(open('ImageDataset_json.json','r').read())"
   ]
  },
  {
   "cell_type": "code",
   "execution_count": 4,
   "metadata": {},
   "outputs": [
    {
     "data": {
      "text/plain": [
       "{'filename': 'img_00.jpeg',\n",
       " 'size': 21788,\n",
       " 'regions': [{'shape_attributes': {'name': 'rect',\n",
       "    'x': 181,\n",
       "    'y': 7,\n",
       "    'width': 91,\n",
       "    'height': 61},\n",
       "   'region_attributes': {'name': 'hardhat',\n",
       "    'type': 'unknown',\n",
       "    'image_quality': {'good': True,\n",
       "     'frontal': True,\n",
       "     'good_illumination': True}}},\n",
       "  {'shape_attributes': {'name': 'rect',\n",
       "    'x': 196,\n",
       "    'y': 66,\n",
       "    'width': 65,\n",
       "    'height': 59},\n",
       "   'region_attributes': {'name': 'mask',\n",
       "    'type': 'unknown',\n",
       "    'image_quality': {'good': True,\n",
       "     'frontal': True,\n",
       "     'good_illumination': True}}},\n",
       "  {'shape_attributes': {'name': 'rect',\n",
       "    'x': 128,\n",
       "    'y': 126,\n",
       "    'width': 191,\n",
       "    'height': 72},\n",
       "   'region_attributes': {'name': 'vest',\n",
       "    'type': 'unknown',\n",
       "    'image_quality': {'good': True,\n",
       "     'frontal': True,\n",
       "     'good_illumination': True}}}],\n",
       " 'file_attributes': {'caption': '', 'public_domain': 'no', 'image_url': ''}}"
      ]
     },
     "execution_count": 4,
     "metadata": {},
     "output_type": "execute_result"
    }
   ],
   "source": [
    "annots['img_00.jpeg21788']"
   ]
  },
  {
   "cell_type": "code",
   "execution_count": 5,
   "metadata": {},
   "outputs": [
    {
     "data": {
      "text/html": [
       "<div>\n",
       "<style scoped>\n",
       "    .dataframe tbody tr th:only-of-type {\n",
       "        vertical-align: middle;\n",
       "    }\n",
       "\n",
       "    .dataframe tbody tr th {\n",
       "        vertical-align: top;\n",
       "    }\n",
       "\n",
       "    .dataframe thead th {\n",
       "        text-align: right;\n",
       "    }\n",
       "</style>\n",
       "<table border=\"1\" class=\"dataframe\">\n",
       "  <thead>\n",
       "    <tr style=\"text-align: right;\">\n",
       "      <th></th>\n",
       "      <th>file_name</th>\n",
       "      <th>region</th>\n",
       "      <th>x</th>\n",
       "      <th>y</th>\n",
       "      <th>width</th>\n",
       "      <th>height</th>\n",
       "    </tr>\n",
       "  </thead>\n",
       "  <tbody>\n",
       "    <tr>\n",
       "      <th>179</th>\n",
       "      <td>img_42.jpeg</td>\n",
       "      <td>vest</td>\n",
       "      <td>63</td>\n",
       "      <td>43</td>\n",
       "      <td>61</td>\n",
       "      <td>112</td>\n",
       "    </tr>\n",
       "    <tr>\n",
       "      <th>189</th>\n",
       "      <td>img_45.jpg</td>\n",
       "      <td>hardhat</td>\n",
       "      <td>106</td>\n",
       "      <td>62</td>\n",
       "      <td>90</td>\n",
       "      <td>40</td>\n",
       "    </tr>\n",
       "    <tr>\n",
       "      <th>197</th>\n",
       "      <td>img_48.jpg</td>\n",
       "      <td>hardhat</td>\n",
       "      <td>346</td>\n",
       "      <td>59</td>\n",
       "      <td>68</td>\n",
       "      <td>65</td>\n",
       "    </tr>\n",
       "    <tr>\n",
       "      <th>24</th>\n",
       "      <td>img_08.jpeg</td>\n",
       "      <td>hardhat</td>\n",
       "      <td>182</td>\n",
       "      <td>125</td>\n",
       "      <td>52</td>\n",
       "      <td>27</td>\n",
       "    </tr>\n",
       "    <tr>\n",
       "      <th>192</th>\n",
       "      <td>img_46.jpg</td>\n",
       "      <td>vest</td>\n",
       "      <td>677</td>\n",
       "      <td>426</td>\n",
       "      <td>547</td>\n",
       "      <td>532</td>\n",
       "    </tr>\n",
       "  </tbody>\n",
       "</table>\n",
       "</div>"
      ],
      "text/plain": [
       "       file_name   region    x    y width height\n",
       "179  img_42.jpeg     vest   63   43    61    112\n",
       "189   img_45.jpg  hardhat  106   62    90     40\n",
       "197   img_48.jpg  hardhat  346   59    68     65\n",
       "24   img_08.jpeg  hardhat  182  125    52     27\n",
       "192   img_46.jpg     vest  677  426   547    532"
      ]
     },
     "execution_count": 5,
     "metadata": {},
     "output_type": "execute_result"
    }
   ],
   "source": [
    "region_annots = pd.DataFrame(columns=['file_name', 'region', 'x', 'y', 'width', 'height'],index=[])\n",
    "for k in annots:\n",
    "    file_name = annots[k]['filename']\n",
    "    for region in annots[k]['regions']:\n",
    "        region_annots.loc[len(region_annots.index)] = [file_name,region['region_attributes']['name'].replace(\"\\n\", \"\"),region['shape_attributes']['x']\n",
    "                   ,region['shape_attributes']['y'],region['shape_attributes']['width'],region['shape_attributes']['height']]\n",
    "region_annots.sample(5)"
   ]
  },
  {
   "cell_type": "code",
   "execution_count": 6,
   "metadata": {},
   "outputs": [],
   "source": [
    "image_dims = pd.DataFrame(columns=['file_name', 'width', 'height'],index=[])\n",
    "folder = 'images/'\n",
    "for file_name in os.listdir(folder):\n",
    "#     print(file_name)\n",
    "    try:\n",
    "        img = Image.open(folder+file_name)\n",
    "        image_dims.loc[len(image_dims.index)] = [file_name,img.size[0], img.size[1]]\n",
    "    finally:\n",
    "        continue"
   ]
  },
  {
   "cell_type": "code",
   "execution_count": 7,
   "metadata": {},
   "outputs": [
    {
     "data": {
      "text/plain": [
       "50"
      ]
     },
     "execution_count": 7,
     "metadata": {},
     "output_type": "execute_result"
    }
   ],
   "source": [
    "len(image_dims)"
   ]
  },
  {
   "cell_type": "code",
   "execution_count": 8,
   "metadata": {},
   "outputs": [
    {
     "data": {
      "text/html": [
       "<div>\n",
       "<style scoped>\n",
       "    .dataframe tbody tr th:only-of-type {\n",
       "        vertical-align: middle;\n",
       "    }\n",
       "\n",
       "    .dataframe tbody tr th {\n",
       "        vertical-align: top;\n",
       "    }\n",
       "\n",
       "    .dataframe thead th {\n",
       "        text-align: right;\n",
       "    }\n",
       "</style>\n",
       "<table border=\"1\" class=\"dataframe\">\n",
       "  <thead>\n",
       "    <tr style=\"text-align: right;\">\n",
       "      <th></th>\n",
       "      <th>file_name</th>\n",
       "      <th>region</th>\n",
       "      <th>x</th>\n",
       "      <th>y</th>\n",
       "      <th>width_reg</th>\n",
       "      <th>height_reg</th>\n",
       "      <th>width_img</th>\n",
       "      <th>height_img</th>\n",
       "    </tr>\n",
       "  </thead>\n",
       "  <tbody>\n",
       "    <tr>\n",
       "      <th>39</th>\n",
       "      <td>img_09.jpg</td>\n",
       "      <td>mask</td>\n",
       "      <td>770</td>\n",
       "      <td>354</td>\n",
       "      <td>57</td>\n",
       "      <td>20</td>\n",
       "      <td>940</td>\n",
       "      <td>788</td>\n",
       "    </tr>\n",
       "    <tr>\n",
       "      <th>53</th>\n",
       "      <td>img_10.jpeg</td>\n",
       "      <td>mask</td>\n",
       "      <td>44</td>\n",
       "      <td>72</td>\n",
       "      <td>72</td>\n",
       "      <td>73</td>\n",
       "      <td>600</td>\n",
       "      <td>420</td>\n",
       "    </tr>\n",
       "    <tr>\n",
       "      <th>153</th>\n",
       "      <td>img_33.jpeg</td>\n",
       "      <td>hardhat</td>\n",
       "      <td>182</td>\n",
       "      <td>8</td>\n",
       "      <td>62</td>\n",
       "      <td>59</td>\n",
       "      <td>390</td>\n",
       "      <td>280</td>\n",
       "    </tr>\n",
       "    <tr>\n",
       "      <th>35</th>\n",
       "      <td>img_09.jpg</td>\n",
       "      <td>hardhat</td>\n",
       "      <td>183</td>\n",
       "      <td>456</td>\n",
       "      <td>51</td>\n",
       "      <td>27</td>\n",
       "      <td>940</td>\n",
       "      <td>788</td>\n",
       "    </tr>\n",
       "    <tr>\n",
       "      <th>114</th>\n",
       "      <td>img_23.jpeg</td>\n",
       "      <td>vest</td>\n",
       "      <td>650</td>\n",
       "      <td>298</td>\n",
       "      <td>144</td>\n",
       "      <td>93</td>\n",
       "      <td>800</td>\n",
       "      <td>568</td>\n",
       "    </tr>\n",
       "  </tbody>\n",
       "</table>\n",
       "</div>"
      ],
      "text/plain": [
       "       file_name   region    x    y width_reg height_reg width_img height_img\n",
       "39    img_09.jpg     mask  770  354        57         20       940        788\n",
       "53   img_10.jpeg     mask   44   72        72         73       600        420\n",
       "153  img_33.jpeg  hardhat  182    8        62         59       390        280\n",
       "35    img_09.jpg  hardhat  183  456        51         27       940        788\n",
       "114  img_23.jpeg     vest  650  298       144         93       800        568"
      ]
     },
     "execution_count": 8,
     "metadata": {},
     "output_type": "execute_result"
    }
   ],
   "source": [
    "data = region_annots.merge(image_dims, on = ['file_name'],suffixes=['_reg','_img'])\n",
    "data.sample(5)"
   ]
  },
  {
   "cell_type": "code",
   "execution_count": 9,
   "metadata": {},
   "outputs": [],
   "source": [
    "data['width_normalized'] = data['width_reg'].div(data['width_img'])\n",
    "data['height_normalized'] = data['height_reg'].div(data['height_img'])"
   ]
  },
  {
   "cell_type": "code",
   "execution_count": 10,
   "metadata": {},
   "outputs": [
    {
     "data": {
      "text/html": [
       "<div>\n",
       "<style scoped>\n",
       "    .dataframe tbody tr th:only-of-type {\n",
       "        vertical-align: middle;\n",
       "    }\n",
       "\n",
       "    .dataframe tbody tr th {\n",
       "        vertical-align: top;\n",
       "    }\n",
       "\n",
       "    .dataframe thead th {\n",
       "        text-align: right;\n",
       "    }\n",
       "</style>\n",
       "<table border=\"1\" class=\"dataframe\">\n",
       "  <thead>\n",
       "    <tr style=\"text-align: right;\">\n",
       "      <th></th>\n",
       "      <th>file_name</th>\n",
       "      <th>region</th>\n",
       "      <th>x</th>\n",
       "      <th>y</th>\n",
       "      <th>width_reg</th>\n",
       "      <th>height_reg</th>\n",
       "      <th>width_img</th>\n",
       "      <th>height_img</th>\n",
       "      <th>width_normalized</th>\n",
       "      <th>height_normalized</th>\n",
       "    </tr>\n",
       "  </thead>\n",
       "  <tbody>\n",
       "    <tr>\n",
       "      <th>44</th>\n",
       "      <td>img_10.jpeg</td>\n",
       "      <td>hardhat</td>\n",
       "      <td>2</td>\n",
       "      <td>2</td>\n",
       "      <td>122</td>\n",
       "      <td>64</td>\n",
       "      <td>600</td>\n",
       "      <td>420</td>\n",
       "      <td>0.203333</td>\n",
       "      <td>0.152381</td>\n",
       "    </tr>\n",
       "    <tr>\n",
       "      <th>113</th>\n",
       "      <td>img_23.jpeg</td>\n",
       "      <td>vest</td>\n",
       "      <td>436</td>\n",
       "      <td>148</td>\n",
       "      <td>93</td>\n",
       "      <td>136</td>\n",
       "      <td>800</td>\n",
       "      <td>568</td>\n",
       "      <td>0.11625</td>\n",
       "      <td>0.239437</td>\n",
       "    </tr>\n",
       "    <tr>\n",
       "      <th>188</th>\n",
       "      <td>img_45.jpg</td>\n",
       "      <td>hardhat</td>\n",
       "      <td>315</td>\n",
       "      <td>103</td>\n",
       "      <td>112</td>\n",
       "      <td>68</td>\n",
       "      <td>800</td>\n",
       "      <td>450</td>\n",
       "      <td>0.14</td>\n",
       "      <td>0.151111</td>\n",
       "    </tr>\n",
       "    <tr>\n",
       "      <th>53</th>\n",
       "      <td>img_10.jpeg</td>\n",
       "      <td>mask</td>\n",
       "      <td>44</td>\n",
       "      <td>72</td>\n",
       "      <td>72</td>\n",
       "      <td>73</td>\n",
       "      <td>600</td>\n",
       "      <td>420</td>\n",
       "      <td>0.12</td>\n",
       "      <td>0.17381</td>\n",
       "    </tr>\n",
       "    <tr>\n",
       "      <th>50</th>\n",
       "      <td>img_10.jpeg</td>\n",
       "      <td>vest</td>\n",
       "      <td>348</td>\n",
       "      <td>265</td>\n",
       "      <td>76</td>\n",
       "      <td>96</td>\n",
       "      <td>600</td>\n",
       "      <td>420</td>\n",
       "      <td>0.126667</td>\n",
       "      <td>0.228571</td>\n",
       "    </tr>\n",
       "  </tbody>\n",
       "</table>\n",
       "</div>"
      ],
      "text/plain": [
       "       file_name   region    x    y width_reg height_reg width_img height_img  \\\n",
       "44   img_10.jpeg  hardhat    2    2       122         64       600        420   \n",
       "113  img_23.jpeg     vest  436  148        93        136       800        568   \n",
       "188   img_45.jpg  hardhat  315  103       112         68       800        450   \n",
       "53   img_10.jpeg     mask   44   72        72         73       600        420   \n",
       "50   img_10.jpeg     vest  348  265        76         96       600        420   \n",
       "\n",
       "    width_normalized height_normalized  \n",
       "44          0.203333          0.152381  \n",
       "113          0.11625          0.239437  \n",
       "188             0.14          0.151111  \n",
       "53              0.12           0.17381  \n",
       "50          0.126667          0.228571  "
      ]
     },
     "execution_count": 10,
     "metadata": {},
     "output_type": "execute_result"
    }
   ],
   "source": [
    "data.sample(5)"
   ]
  },
  {
   "cell_type": "code",
   "execution_count": 11,
   "metadata": {},
   "outputs": [],
   "source": [
    "cluster_data = data[['width_normalized','height_normalized']]"
   ]
  },
  {
   "cell_type": "code",
   "execution_count": 12,
   "metadata": {},
   "outputs": [
    {
     "data": {
      "text/html": [
       "<div>\n",
       "<style scoped>\n",
       "    .dataframe tbody tr th:only-of-type {\n",
       "        vertical-align: middle;\n",
       "    }\n",
       "\n",
       "    .dataframe tbody tr th {\n",
       "        vertical-align: top;\n",
       "    }\n",
       "\n",
       "    .dataframe thead th {\n",
       "        text-align: right;\n",
       "    }\n",
       "</style>\n",
       "<table border=\"1\" class=\"dataframe\">\n",
       "  <thead>\n",
       "    <tr style=\"text-align: right;\">\n",
       "      <th></th>\n",
       "      <th>width_normalized</th>\n",
       "      <th>height_normalized</th>\n",
       "    </tr>\n",
       "  </thead>\n",
       "  <tbody>\n",
       "    <tr>\n",
       "      <th>188</th>\n",
       "      <td>0.14</td>\n",
       "      <td>0.151111</td>\n",
       "    </tr>\n",
       "    <tr>\n",
       "      <th>102</th>\n",
       "      <td>0.318627</td>\n",
       "      <td>0.564516</td>\n",
       "    </tr>\n",
       "    <tr>\n",
       "      <th>192</th>\n",
       "      <td>0.364667</td>\n",
       "      <td>0.483197</td>\n",
       "    </tr>\n",
       "    <tr>\n",
       "      <th>154</th>\n",
       "      <td>0.307692</td>\n",
       "      <td>0.625</td>\n",
       "    </tr>\n",
       "    <tr>\n",
       "      <th>176</th>\n",
       "      <td>0.386111</td>\n",
       "      <td>0.317361</td>\n",
       "    </tr>\n",
       "  </tbody>\n",
       "</table>\n",
       "</div>"
      ],
      "text/plain": [
       "    width_normalized height_normalized\n",
       "188             0.14          0.151111\n",
       "102         0.318627          0.564516\n",
       "192         0.364667          0.483197\n",
       "154         0.307692             0.625\n",
       "176         0.386111          0.317361"
      ]
     },
     "execution_count": 12,
     "metadata": {},
     "output_type": "execute_result"
    }
   ],
   "source": [
    "cluster_data.sample(5)"
   ]
  },
  {
   "cell_type": "code",
   "execution_count": 88,
   "metadata": {},
   "outputs": [],
   "source": [
    "height =  cluster_data['height_normalized']\n",
    "width  = cluster_data['width_normalized']\n",
    "mean_iou = []\n",
    "for k in range(2,6):\n",
    "    kmeans = KMeans(n_clusters=k, init='k-means++', max_iter=300)\n",
    "    kmeans.fit(cluster_data)\n",
    "    iou = 0\n",
    "    for i in range(len(kmeans.labels_)):\n",
    "        cx,cy = kmeans.cluster_centers_[kmeans.labels_[i]]\n",
    "        iou += min(width[i] ,cx)* min(height[i] , cy)/(height[i]*width[i]+ cx*cy- min(width[i] , cx)* min(height[i] ,cy))\n",
    "    mean_iou.append(iou/50.)"
   ]
  },
  {
   "cell_type": "code",
   "execution_count": 89,
   "metadata": {},
   "outputs": [
    {
     "data": {
      "text/plain": [
       "[2.050679024204221, 2.1992677311120175, 2.4128631078500415, 2.4465478017917124]"
      ]
     },
     "execution_count": 89,
     "metadata": {},
     "output_type": "execute_result"
    }
   ],
   "source": [
    "mean_iou"
   ]
  },
  {
   "cell_type": "code",
   "execution_count": 90,
   "metadata": {},
   "outputs": [
    {
     "data": {
      "image/png": "[encoded data removed]",
      "text/plain": [
       "<Figure size 432x288 with 1 Axes>"
      ]
     },
     "metadata": {},
     "output_type": "display_data"
    }
   ],
   "source": [
    "plt.style.use('ggplot')\n",
    "plt.title('The Mean IOU vs K')\n",
    "plt.plot(mean_iou,'.-',label = \"iou\")\n",
    "plt.xlabel('centroids')\n",
    "plt.ylabel('Mean Iou')\n",
    "plt.show()"
   ]
  },
  {
   "cell_type": "code",
   "execution_count": 91,
   "metadata": {},
   "outputs": [
    {
     "data": {
      "text/plain": [
       "<matplotlib.collections.PathCollection at 0x26b3e72d700>"
      ]
     },
     "execution_count": 91,
     "metadata": {},
     "output_type": "execute_result"
    },
    {
     "data": {
      "image/png": "[encoded data removed]",
      "text/plain": [
       "<Figure size 432x288 with 1 Axes>"
      ]
     },
     "metadata": {},
     "output_type": "display_data"
    }
   ],
   "source": [
    "plt.scatter(cluster_data['width_normalized'], cluster_data['height_normalized'])"
   ]
  },
  {
   "cell_type": "code",
   "execution_count": 92,
   "metadata": {},
   "outputs": [
    {
     "name": "stderr",
     "output_type": "stream",
     "text": [
      "C:\\ProgramData\\Anaconda3\\lib\\site-packages\\sklearn\\cluster\\_kmeans.py:881: UserWarning: KMeans is known to have a memory leak on Windows with MKL, when there are less chunks than available threads. You can avoid it by setting the environment variable OMP_NUM_THREADS=1.\n",
      "  warnings.warn(\n"
     ]
    },
    {
     "data": {
      "image/png": "[encoded data removed]",
      "text/plain": [
       "<Figure size 432x288 with 1 Axes>"
      ]
     },
     "metadata": {},
     "output_type": "display_data"
    }
   ],
   "source": [
    "wcss = []\n",
    "#OMP_NUM_THREADS=1\n",
    "for i in range(1, 11):\n",
    "    kmeans = KMeans(n_clusters=i, init='k-means++', max_iter=300, n_init=10, random_state=0)\n",
    "    kmeans.fit(cluster_data)\n",
    "    wcss.append(kmeans.inertia_)\n",
    "plt.plot(range(1, 11), wcss)\n",
    "plt.title('Elbow Method')\n",
    "plt.xlabel('Number of clusters')\n",
    "plt.ylabel('WCSS')\n",
    "plt.show()"
   ]
  },
  {
   "cell_type": "code",
   "execution_count": 94,
   "metadata": {},
   "outputs": [
    {
     "data": {
      "image/png": "[encoded data removed]",
      "text/plain": [
       "<Figure size 432x288 with 1 Axes>"
      ]
     },
     "metadata": {},
     "output_type": "display_data"
    }
   ],
   "source": [
    "kmeans = KMeans(n_clusters=2, init='k-means++', max_iter=300, n_init=10, random_state=0)\n",
    "pred_y = kmeans.fit_predict(cluster_data)\n",
    "\n",
    "plt.scatter(cluster_data['width_normalized'], cluster_data['height_normalized'],c='blue')\n",
    "plt.scatter(kmeans.cluster_centers_[:, 0], kmeans.cluster_centers_[:, 1], s=300, c='red')\n",
    "plt.show()"
   ]
  },
  {
   "cell_type": "code",
   "execution_count": 96,
   "metadata": {},
   "outputs": [
    {
     "data": {
      "image/png": "[encoded data removed]",
      "text/plain": [
       "<Figure size 432x288 with 1 Axes>"
      ]
     },
     "metadata": {},
     "output_type": "display_data"
    }
   ],
   "source": [
    "kmeans = KMeans(n_clusters=3, init='k-means++', max_iter=300, n_init=10, random_state=0)\n",
    "pred_y = kmeans.fit_predict(cluster_data)\n",
    "\n",
    "plt.scatter(cluster_data['width_normalized'], cluster_data['height_normalized'],c='blue')\n",
    "plt.scatter(kmeans.cluster_centers_[:, 0], kmeans.cluster_centers_[:, 1], s=300, c='red')\n",
    "plt.show()"
   ]
  },
  {
   "cell_type": "code",
   "execution_count": 98,
   "metadata": {},
   "outputs": [
    {
     "data": {
      "image/png": "[encoded data removed]",
      "text/plain": [
       "<Figure size 432x288 with 1 Axes>"
      ]
     },
     "metadata": {},
     "output_type": "display_data"
    }
   ],
   "source": [
    "kmeans = KMeans(n_clusters=4, init='k-means++', max_iter=300, n_init=10, random_state=0)\n",
    "pred_y = kmeans.fit_predict(cluster_data)\n",
    "\n",
    "plt.scatter(cluster_data['width_normalized'], cluster_data['height_normalized'],c='blue')\n",
    "plt.scatter(kmeans.cluster_centers_[:, 0], kmeans.cluster_centers_[:, 1], s=300, c='red')\n",
    "plt.show()"
   ]
  }
 ],
 "metadata": {
  "kernelspec": {
   "display_name": "Python 3",
   "language": "python",
   "name": "python3"
  },
  "language_info": {
   "codemirror_mode": {
    "name": "ipython",
    "version": 3
   },
   "file_extension": ".py",
   "mimetype": "text/x-python",
   "name": "python",
   "nbconvert_exporter": "python",
   "pygments_lexer": "ipython3",
   "version": "3.8.5"
  }
 },
 "nbformat": 4,
 "nbformat_minor": 4
}
